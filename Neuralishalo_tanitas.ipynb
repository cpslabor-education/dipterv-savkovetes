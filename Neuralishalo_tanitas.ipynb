{
 "cells": [
  {
   "cell_type": "markdown",
   "metadata": {},
   "source": [
    "# Neurális háló tanítása személygépjárművek felismerésére"
   ]
  },
  {
   "cell_type": "markdown",
   "metadata": {},
   "source": [
    "### Szükséges kiegészítő függvénykönyvtárak importálása"
   ]
  },
  {
   "cell_type": "code",
   "execution_count": 1,
   "metadata": {},
   "outputs": [],
   "source": [
    "import os #mappa létrehozása, azonosítása vagy tartalmának lekérdezése\n",
    "import time #idővel kaocsolatos manipulációk \n",
    "import math # matematikai függvények listája\n",
    "import shutil #fájlok módosításához, eltávolításához\n",
    "import matplotlib.pyplot as plt #képen az eredményt ábrázolása\n",
    "import tensorflow as tf #numerikus számítások\n",
    "from tensorflow.keras import layers #számítási függvényeket tartalmazó rétegek behívása \n",
    "from sklearn.model_selection import train_test_split #bemenetként megadott tömbök részhalmazokra osztása"
   ]
  },
  {
   "cell_type": "markdown",
   "metadata": {},
   "source": [
    "### Tanításhoz használt adathalmazok elérési útjának megadása"
   ]
  },
  {
   "cell_type": "code",
   "execution_count": 2,
   "metadata": {},
   "outputs": [],
   "source": [
    "JARMUVEK = r'C:\\Users\\Eszti\\Desktop\\Python projects\\cardata\\KITTI_vehicles'\n",
    "NEM_JARMUVEK = r'C:\\Users\\Eszti\\Desktop\\Python projects\\cardata\\non-vehicles'"
   ]
  },
  {
   "cell_type": "markdown",
   "metadata": {},
   "source": [
    "### Tanításhoz mappák definiálása"
   ]
  },
  {
   "cell_type": "code",
   "execution_count": 4,
   "metadata": {},
   "outputs": [],
   "source": [
    "jarmu_kepek_neve = os.listdir(JARMUVEK)\n",
    "nem_jarmu_kepek_neve = os.listdir(NEM_JARMUVEK)"
   ]
  },
  {
   "cell_type": "markdown",
   "metadata": {},
   "source": [
    "### Mappában található képekről információk kiíratása"
   ]
  },
  {
   "cell_type": "code",
   "execution_count": 6,
   "metadata": {},
   "outputs": [
    {
     "name": "stdout",
     "output_type": "stream",
     "text": [
      "Járműveket tartalmazó képek száma: 5967\n",
      "Járműveket nem tartalmazó képek száma: 8968\n",
      "['.DS_Store', '1.png', '10.png', '1000.png', '1001.png', '1002.png', '1003.png', '1004.png', '1005.png', '1006.png']\n",
      "['extra1.png', 'extra10.png', 'extra100.png', 'extra1000.png', 'extra1001.png', 'extra1002.png', 'extra1003.png', 'extra1004.png', 'extra1005.png', 'extra1006.png']\n"
     ]
    }
   ],
   "source": [
    "print('Járműveket tartalmazó képek száma:', len(jarmu_kepek_neve))\n",
    "print('Járműveket nem tartalmazó képek száma:', len(nem_jarmu_kepek_neve))\n",
    "print(jarmu_kepek_neve[:10])\n",
    "print(nem_jarmu_kepek_neve[:10])"
   ]
  },
  {
   "cell_type": "markdown",
   "metadata": {},
   "source": [
    "### Könyvtárak definiálása tanításhoz és teszteléshez"
   ]
  },
  {
   "cell_type": "code",
   "execution_count": 7,
   "metadata": {},
   "outputs": [],
   "source": [
    "Fo_konyvtar = '../tmp/'\n",
    "Train_konyvtar = os.path.join(Fo_konyvtar, 'tanítás')\n",
    "Teszt_konyvtar = os.path.join(Fo_konyvtar, 'tesztelés')\n",
    "Jarmuvek_Train_konyvtar = os.path.join(Train_konyvtar, 'járművek')\n",
    "Nem_Jarmuvek_Train_konyvtar = os.path.join(Teszt_konyvtar, 'nem járművek')\n",
    "Jarmuvek_Teszt_konyvtar = os.path.join(Teszt_konyvtar, 'járművek')\n",
    "Nem_Jarmuvek_Teszt_konyvtar = os.path.join(Teszt_konyvtar, 'nem járművek')"
   ]
  },
  {
   "cell_type": "markdown",
   "metadata": {},
   "source": [
    "### Adathalmaz tanításban résztvevő arányának megadása"
   ]
  },
  {
   "cell_type": "code",
   "execution_count": 8,
   "metadata": {},
   "outputs": [],
   "source": [
    "TRAIN_MERET = 0.8"
   ]
  },
  {
   "cell_type": "markdown",
   "metadata": {},
   "source": [
    "### Tanító és tesztelő halmazokban a képek random keverése"
   ]
  },
  {
   "cell_type": "code",
   "execution_count": 10,
   "metadata": {},
   "outputs": [],
   "source": [
    "train_jarmuvek, teszt_jarmuvek = train_test_split(\n",
    "    jarmu_kepek_neve, train_size=TRAIN_MERET, shuffle=True, random_state=1)\n",
    "\n",
    "train_nem_jarmuvek, teszt__nem_jarmuvek = train_test_split(\n",
    "    nem_jarmu_kepek_neve, train_size=TRAIN_MERET, shuffle=True, random_state=1)"
   ]
  },
  {
   "cell_type": "markdown",
   "metadata": {},
   "source": [
    "### Lista elemszámainak kiíratása"
   ]
  },
  {
   "cell_type": "code",
   "execution_count": 11,
   "metadata": {},
   "outputs": [
    {
     "name": "stdout",
     "output_type": "stream",
     "text": [
      "Járművet tart. képek száma tanításhoz: 4773\n",
      "Járművet nem tart. képek száma tanításhoz: 7174\n",
      "Járművet tart. képek száma teszteléshez: 1194\n",
      "Járművet nem tart. képek száma teszteléshez: 1794\n"
     ]
    }
   ],
   "source": [
    "print('Járművet tart. képek száma tanításhoz:', len(train_jarmuvek))\n",
    "print('Járművet nem tart. képek száma tanításhoz:', len(train_nem_jarmuvek))\n",
    "\n",
    "print('Járművet tart. képek száma teszteléshez:', len(teszt_jarmuvek))\n",
    "print('Járművet nem tart. képek száma teszteléshez:', len(teszt__nem_jarmuvek))"
   ]
  },
  {
   "cell_type": "markdown",
   "metadata": {},
   "source": [
    "### Adathalmazok szétbontása"
   ]
  },
  {
   "cell_type": "code",
   "execution_count": 17,
   "metadata": {},
   "outputs": [],
   "source": [
    "def move_images(image_list, old_dir_path, new_dir_path):\n",
    "    if not os.path.exists(new_dir_path):\n",
    "        os.makedirs(new_dir_path)\n",
    "    \n",
    "    for file_name in image_list:\n",
    "        shutil.copy(\n",
    "            os.path.join(old_dir_path, file_name),\n",
    "            os.path.join(new_dir_path, file_name)\n",
    "        )\n",
    "    print(f'{len(image_list)} IMAGES COPIED TO {new_dir_path}')"
   ]
  },
  {
   "cell_type": "markdown",
   "metadata": {},
   "source": [
    "### Képek mozgatása a megfelelő mappákba"
   ]
  },
  {
   "cell_type": "code",
   "execution_count": 18,
   "metadata": {},
   "outputs": [
    {
     "name": "stdout",
     "output_type": "stream",
     "text": [
      "4773 IMAGES COPIED TO ../tmp/tanítás\\járművek\n",
      "7174 IMAGES COPIED TO ../tmp/tesztelés\\nem járművek\n",
      "1194 IMAGES COPIED TO ../tmp/tanítás\\járművek\n",
      "1794 IMAGES COPIED TO ../tmp/tesztelés\\nem járművek\n"
     ]
    }
   ],
   "source": [
    "move_images(train_jarmuvek, JARMUVEK, Jarmuvek_Train_konyvtar)\n",
    "move_images(train_nem_jarmuvek, NEM_JARMUVEK, Nem_Jarmuvek_Train_konyvtar)\n",
    "\n",
    "move_images(teszt_jarmuvek, JARMUVEK, Jarmuvek_Train_konyvtar)\n",
    "move_images(teszt__nem_jarmuvek, NEM_JARMUVEK, Nem_Jarmuvek_Train_konyvtar)"
   ]
  },
  {
   "cell_type": "markdown",
   "metadata": {},
   "source": [
    "### Tanításhoz használt mappa elemszáma"
   ]
  },
  {
   "cell_type": "code",
   "execution_count": 19,
   "metadata": {},
   "outputs": [
    {
     "data": {
      "text/plain": [
       "8793"
      ]
     },
     "execution_count": 19,
     "metadata": {},
     "output_type": "execute_result"
    }
   ],
   "source": [
    "len(os.listdir(Jarmuvek_Train_konyvtar))"
   ]
  },
  {
   "cell_type": "markdown",
   "metadata": {},
   "source": [
    "### Kép mérete"
   ]
  },
  {
   "cell_type": "code",
   "execution_count": 20,
   "metadata": {},
   "outputs": [],
   "source": [
    "IMG_SIZE = 256"
   ]
  },
  {
   "cell_type": "markdown",
   "metadata": {},
   "source": [
    "### Bemeneti adatok normalizálása (tanítás közbeni adatbővítés)"
   ]
  },
  {
   "cell_type": "code",
   "execution_count": 21,
   "metadata": {},
   "outputs": [
    {
     "name": "stdout",
     "output_type": "stream",
     "text": [
      "Found 15966 images belonging to 2 classes.\n",
      "Found 10727 images belonging to 2 classes.\n"
     ]
    }
   ],
   "source": [
    "train_datagen = tf.keras.preprocessing.image.ImageDataGenerator(\n",
    "    rescale=1./255)\n",
    "\n",
    "train_generator = train_datagen.flow_from_directory(\n",
    "    Train_konyvtar,\n",
    "    target_size=(IMG_SIZE, IMG_SIZE),\n",
    "    shuffle=True,\n",
    "    class_mode='binary')\n",
    "\n",
    "test_datagen = tf.keras.preprocessing.image.ImageDataGenerator(\n",
    "    rescale=1./255)\n",
    "\n",
    "test_generator = test_datagen.flow_from_directory(\n",
    "    Teszt_konyvtar,\n",
    "    target_size=(IMG_SIZE, IMG_SIZE),\n",
    "    class_mode='binary')"
   ]
  },
  {
   "cell_type": "markdown",
   "metadata": {},
   "source": [
    "### Konvolúciós neurális háló alkalmazása"
   ]
  },
  {
   "cell_type": "code",
   "execution_count": 22,
   "metadata": {},
   "outputs": [
    {
     "name": "stdout",
     "output_type": "stream",
     "text": [
      "Model: \"sequential\"\n",
      "_________________________________________________________________\n",
      " Layer (type)                Output Shape              Param #   \n",
      "=================================================================\n",
      " conv2d (Conv2D)             (None, 254, 254, 32)      896       \n",
      "                                                                 \n",
      " max_pooling2d (MaxPooling2D  (None, 127, 127, 32)     0         \n",
      " )                                                               \n",
      "                                                                 \n",
      " conv2d_1 (Conv2D)           (None, 125, 125, 64)      18496     \n",
      "                                                                 \n",
      " max_pooling2d_1 (MaxPooling  (None, 62, 62, 64)       0         \n",
      " 2D)                                                             \n",
      "                                                                 \n",
      " flatten (Flatten)           (None, 246016)            0         \n",
      "                                                                 \n",
      " dense (Dense)               (None, 1)                 246017    \n",
      "                                                                 \n",
      "=================================================================\n",
      "Total params: 265,409\n",
      "Trainable params: 265,409\n",
      "Non-trainable params: 0\n",
      "_________________________________________________________________\n"
     ]
    }
   ],
   "source": [
    "model = tf.keras.Sequential([\n",
    "    layers.Conv2D(32, (3, 3), activation='relu', input_shape=(IMG_SIZE, IMG_SIZE, 3)),\n",
    "    layers.MaxPool2D((2, 2)),\n",
    "    layers.Conv2D(64, (3, 3), activation='relu'),\n",
    "    layers.MaxPool2D(2, 2),\n",
    "    layers.Flatten(),\n",
    "    layers.Dense(1, activation='sigmoid')])\n",
    "\n",
    "model.summary()\n",
    "\n",
    "model.compile(\n",
    "    optimizer='adam', #gradiens süllyedés optimalizálása\n",
    "    loss='binary_crossentropy', #veszteség függvény\n",
    "    metrics=['accuracy']) #pontossági mutató"
   ]
  },
  {
   "cell_type": "markdown",
   "metadata": {},
   "source": [
    "### Tanítás leállításának meghatározása"
   ]
  },
  {
   "cell_type": "code",
   "execution_count": 23,
   "metadata": {},
   "outputs": [],
   "source": [
    "early_stopping = tf.keras.callbacks.EarlyStopping(\n",
    "    monitor='val_loss',\n",
    "    patience=5)  #ha már nem érhető el további javulás\n",
    "\n",
    "model_path = r'C:\\Users\\Eszti\\Desktop\\Python projects\\teszt/vehicle_detection.h5'\n",
    "model_checkpoint = tf.keras.callbacks.ModelCheckpoint(\n",
    "    model_path,\n",
    "    save_best_only=True)"
   ]
  },
  {
   "cell_type": "markdown",
   "metadata": {},
   "source": [
    "### Tanítás (iterációk) indítása"
   ]
  },
  {
   "cell_type": "code",
   "execution_count": 24,
   "metadata": {},
   "outputs": [
    {
     "name": "stdout",
     "output_type": "stream",
     "text": [
      "Epoch 1/5\n",
      "499/499 [==============================] - 729s 1s/step - loss: 0.2026 - accuracy: 0.9172 - val_loss: 0.2758 - val_accuracy: 0.9009\n",
      "Epoch 2/5\n",
      "499/499 [==============================] - 690s 1s/step - loss: 0.0718 - accuracy: 0.9756 - val_loss: 0.0725 - val_accuracy: 0.9795\n",
      "Epoch 3/5\n",
      "499/499 [==============================] - 717s 1s/step - loss: 0.0513 - accuracy: 0.9830 - val_loss: 0.0380 - val_accuracy: 0.9897\n",
      "Epoch 4/5\n",
      "499/499 [==============================] - 722s 1s/step - loss: 0.0393 - accuracy: 0.9862 - val_loss: 0.0237 - val_accuracy: 0.9928\n",
      "Epoch 5/5\n",
      "499/499 [==============================] - 754s 2s/step - loss: 0.0282 - accuracy: 0.9894 - val_loss: 0.0120 - val_accuracy: 0.9961\n"
     ]
    }
   ],
   "source": [
    "history = model.fit(\n",
    "    train_generator,\n",
    "    steps_per_epoch=len(train_generator),\n",
    "    epochs=5,\n",
    "    validation_data=test_generator,\n",
    "    validation_steps=len(test_generator),\n",
    "    callbacks=[early_stopping, model_checkpoint])"
   ]
  },
  {
   "cell_type": "markdown",
   "metadata": {},
   "source": [
    "### Pontossági mutatók kijelzése"
   ]
  },
  {
   "cell_type": "code",
   "execution_count": 28,
   "metadata": {},
   "outputs": [
    {
     "data": {
      "image/png": "[encoded data removed]",
      "text/plain": [
       "<Figure size 432x288 with 1 Axes>"
      ]
     },
     "metadata": {
      "needs_background": "light"
     },
     "output_type": "display_data"
    },
    {
     "data": {
      "image/png": "[encoded data removed]",
      "text/plain": [
       "<Figure size 432x288 with 1 Axes>"
      ]
     },
     "metadata": {
      "needs_background": "light"
     },
     "output_type": "display_data"
    }
   ],
   "source": [
    "plt.plot(history.history['loss'], label='Tanítás vesztesége')\n",
    "plt.plot(history.history['val_loss'], label='Validáció vesztesége')\n",
    "plt.legend()\n",
    "plt.show()\n",
    "\n",
    "plt.plot(history.history['accuracy'], label='Tanítás vesztesége')\n",
    "plt.plot(history.history['val_accuracy'], label='Validáció vesztesége')\n",
    "plt.legend()\n",
    "plt.show()"
   ]
  },
  {
   "cell_type": "code",
   "execution_count": null,
   "metadata": {},
   "outputs": [],
   "source": []
  }
 ],
 "metadata": {
  "kernelspec": {
   "display_name": "Python 3 (ipykernel)",
   "language": "python",
   "name": "python3"
  },
  "language_info": {
   "codemirror_mode": {
    "name": "ipython",
    "version": 3
   },
   "file_extension": ".py",
   "mimetype": "text/x-python",
   "name": "python",
   "nbconvert_exporter": "python",
   "pygments_lexer": "ipython3",
   "version": "3.10.1"
  }
 },
 "nbformat": 4,
 "nbformat_minor": 2
}
