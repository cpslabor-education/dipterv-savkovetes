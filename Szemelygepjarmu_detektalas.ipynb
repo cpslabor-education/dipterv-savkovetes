{
 "cells": [
  {
   "cell_type": "markdown",
   "metadata": {},
   "source": [
    "# Személygépjárművek detektálása"
   ]
  },
  {
   "cell_type": "markdown",
   "metadata": {},
   "source": [
    "### Szükséges kiegészítő függvénykönyvtárak importálása"
   ]
  },
  {
   "cell_type": "code",
   "execution_count": 25,
   "metadata": {},
   "outputs": [],
   "source": [
    "import cv2 #gépi látás funkciók\n",
    "import time #idővel kapcsolatos funkciók\n",
    "import numpy as np #matematikai háttér"
   ]
  },
  {
   "cell_type": "markdown",
   "metadata": {},
   "source": [
    "### Haar-cascade osztályozó behívása"
   ]
  },
  {
   "cell_type": "code",
   "execution_count": 32,
   "metadata": {},
   "outputs": [],
   "source": [
    "osztalyozo = cv2.CascadeClassifier(r'C:\\Users\\Eszti\\Desktop\\Python projects\\car_detection/cars.xml')"
   ]
  },
  {
   "cell_type": "markdown",
   "metadata": {},
   "source": [
    "### Tesztelni kíván videó megadása"
   ]
  },
  {
   "cell_type": "code",
   "execution_count": 33,
   "metadata": {},
   "outputs": [],
   "source": [
    "video_cap = cv2.VideoCapture(r'C:\\Users\\Eszti\\Desktop\\Python projects\\test_videos/solidWhiteRight.mp4')"
   ]
  },
  {
   "cell_type": "markdown",
   "metadata": {},
   "source": [
    "### Ciklus ismétlése az egyes képkockákra"
   ]
  },
  {
   "cell_type": "code",
   "execution_count": 34,
   "metadata": {},
   "outputs": [],
   "source": [
    "while video_cap.isOpened():\n",
    "    \n",
    "    #időbeli késleltetés\n",
    "    time.sleep(.15)\n",
    "    # Képkoclák beolvasása, majd szürkeárnyalatossá tétele\n",
    "    ret, frame = video_cap.read()\n",
    "    gray = cv2.cvtColor(frame, cv2.COLOR_BGR2GRAY)\n",
    "  \n",
    "    # Osztályozó futtatása a képkockákra\n",
    "    autok = osztalyozo.detectMultiScale(gray, 1.3, 1)\n",
    "    \n",
    "    # Téglalappal történő körülhatárolás, majd ezek megjelenítése egy ablakban\n",
    "    for (x,y,w,h) in autok:\n",
    "        cv2.rectangle(frame, (x, y), (x+w, y+h), (0, 255, 255), 2)\n",
    "        cv2.imshow('Autok eszlelese', frame)\n",
    "\n",
    "    #Enter lenyomásával megszakad az azonosítás, leáll a videó\n",
    "    if cv2.waitKey(1) ==13: \n",
    "        break\n",
    "        \n",
    "video_cap.release()\n",
    "cv2.destroyAllWindows()"
   ]
  },
  {
   "cell_type": "code",
   "execution_count": null,
   "metadata": {},
   "outputs": [],
   "source": []
  }
 ],
 "metadata": {
  "kernelspec": {
   "display_name": "Python 3 (ipykernel)",
   "language": "python",
   "name": "python3"
  },
  "language_info": {
   "codemirror_mode": {
    "name": "ipython",
    "version": 3
   },
   "file_extension": ".py",
   "mimetype": "text/x-python",
   "name": "python",
   "nbconvert_exporter": "python",
   "pygments_lexer": "ipython3",
   "version": "3.10.1"
  }
 },
 "nbformat": 4,
 "nbformat_minor": 2
}
