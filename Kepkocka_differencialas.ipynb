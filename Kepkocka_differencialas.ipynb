{
 "cells": [
  {
   "cell_type": "markdown",
   "metadata": {},
   "source": [
    "## Képkocka differenciálás"
   ]
  },
  {
   "cell_type": "markdown",
   "metadata": {},
   "source": [
    "### Szükséges kiegészítő függvénykönyvtárak importálása"
   ]
  },
  {
   "cell_type": "code",
   "execution_count": 13,
   "metadata": {},
   "outputs": [],
   "source": [
    "import numpy as np #matematikai háttér\n",
    "import cv2 #gépi látás funkciók\n",
    "from skimage import data, filters #szűrők behívása"
   ]
  },
  {
   "cell_type": "markdown",
   "metadata": {},
   "source": [
    "### A kersés előkészítése"
   ]
  },
  {
   "cell_type": "code",
   "execution_count": 14,
   "metadata": {},
   "outputs": [
    {
     "data": {
      "text/plain": [
       "13"
      ]
     },
     "execution_count": 14,
     "metadata": {},
     "output_type": "execute_result"
    }
   ],
   "source": [
    "# Videó megnyitása\n",
    "cap = cv2.VideoCapture(r'C:\\Users\\Eszti\\Desktop\\Python projects\\test_videos/video_3.mp4')\n",
    " \n",
    "# Véletlenszerűen 30 db képkocka választása\n",
    "frameIds = cap.get(cv2.CAP_PROP_FRAME_COUNT) * np.random.uniform(size=30)\n",
    " \n",
    "# Kiválasztott keretek tömbben való tárolása\n",
    "frames = []\n",
    "for fid in frameIds:\n",
    "    cap.set(cv2.CAP_PROP_POS_FRAMES, fid)\n",
    "    ret, frame = cap.read()\n",
    "    frames.append(frame)\n",
    " \n",
    "# Időbeli medián számítása\n",
    "medianFrame = np.median(frames, axis=0).astype(dtype=np.uint8)    \n",
    " \n",
    "# Medián keret megjelenítése\n",
    "cv2.imshow('frame', medianFrame)\n",
    "cv2.waitKey(0)"
   ]
  },
  {
   "cell_type": "markdown",
   "metadata": {},
   "source": [
    "### Kontúrok keresése"
   ]
  },
  {
   "cell_type": "code",
   "execution_count": null,
   "metadata": {},
   "outputs": [],
   "source": [
    "# Keretszám visszaállítása 0-ra\n",
    "cap.set(cv2.CAP_PROP_POS_FRAMES, 0)\n",
    " \n",
    "# Háttér átalakítása szürkeárnyalatossá\n",
    "grayMedianFrame = cv2.cvtColor(medianFrame, cv2.COLOR_BGR2GRAY)\n",
    " \n",
    "# A kereteken hurok alkalmazása\n",
    "ret = True\n",
    "while(ret):\n",
    " \n",
    "  # Keret beolvasása\n",
    "  ret, frame = cap.read()\n",
    "  # aktuális keret átalakítása szürkeárnyalatossá\n",
    "  frame = cv2.cvtColor(frame, cv2.COLOR_BGR2GRAY)\n",
    "  # Az aktuális keret abszolút különbségének és mediánjának számítása\n",
    "  dframe = cv2.absdiff(frame, grayMedianFrame)\n",
    "  # Bináris küszöbérték\n",
    "  th, dframe = cv2.threshold(dframe, 30, 255, cv2.THRESH_BINARY)\n",
    "  # Eredmény megjelenítése\n",
    "  cv2.imshow('frame', dframe)\n",
    "  cv2.waitKey(20)\n",
    " \n",
    "# Videó megjelenítése\n",
    "cap.release()\n",
    " \n",
    "# Ablakok eltávolítása\n",
    "cv2.destroyAllWindows()"
   ]
  },
  {
   "cell_type": "code",
   "execution_count": null,
   "metadata": {},
   "outputs": [],
   "source": []
  },
  {
   "cell_type": "code",
   "execution_count": null,
   "metadata": {},
   "outputs": [],
   "source": []
  }
 ],
 "metadata": {
  "kernelspec": {
   "display_name": "Python 3 (ipykernel)",
   "language": "python",
   "name": "python3"
  },
  "language_info": {
   "codemirror_mode": {
    "name": "ipython",
    "version": 3
   },
   "file_extension": ".py",
   "mimetype": "text/x-python",
   "name": "python",
   "nbconvert_exporter": "python",
   "pygments_lexer": "ipython3",
   "version": "3.10.1"
  }
 },
 "nbformat": 4,
 "nbformat_minor": 2
}
