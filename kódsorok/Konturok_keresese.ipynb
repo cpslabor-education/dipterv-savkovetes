{
 "cells": [
  {
   "cell_type": "markdown",
   "metadata": {},
   "source": [
    "## Kontúrok keresése"
   ]
  },
  {
   "cell_type": "markdown",
   "metadata": {},
   "source": [
    "### Szükséges kiegészítő függvénykönyvtárak importálása"
   ]
  },
  {
   "cell_type": "code",
   "execution_count": 6,
   "metadata": {},
   "outputs": [],
   "source": [
    "import numpy as np #matematikai háttér\n",
    "import cv2 #gépi látás funkciók"
   ]
  },
  {
   "cell_type": "markdown",
   "metadata": {},
   "source": [
    "### A kersés előkészítése"
   ]
  },
  {
   "cell_type": "code",
   "execution_count": 7,
   "metadata": {},
   "outputs": [
    {
     "data": {
      "text/plain": [
       "-1"
      ]
     },
     "execution_count": 7,
     "metadata": {},
     "output_type": "execute_result"
    }
   ],
   "source": [
    "# Tesztelni kívánt kép elérési útjának megadása\n",
    "image = cv2.imread(r'C:\\Users\\Eszti\\Desktop\\Python projects\\proba\\cars.jpg')\n",
    "\n",
    "# eredmény ablak megjelenítése bármely billentyű lenyomásáig\n",
    "cv2.waitKey(0)\n",
    "  \n",
    "# az algoritmus szürkeárnyalatos képen működik\n",
    "gray = cv2.cvtColor(image, cv2.COLOR_BGR2GRAY)\n",
    "  \n",
    "# Canny-élek keresése\n",
    "edged = cv2.Canny(gray, 30, 200) #alacsony és magas küszöbérték definiálása\n",
    "cv2.waitKey(0)"
   ]
  },
  {
   "cell_type": "markdown",
   "metadata": {},
   "source": [
    "### Kontúrok keresése"
   ]
  },
  {
   "cell_type": "code",
   "execution_count": 10,
   "metadata": {},
   "outputs": [
    {
     "name": "stdout",
     "output_type": "stream",
     "text": [
      "Talált kontúrok száma = 2137\n"
     ]
    }
   ],
   "source": [
    "# kontúrok kiemeleése --> cv2.findContours\n",
    "# külső kontúrok lekérése --> cv2.RETR_EXTERNAL\n",
    "# kontúrpontok tárolása --> cv2.CHAIN_APPROX_NONE\n",
    "\n",
    "contours, hierarchy = cv2.findContours(edged, \n",
    "    cv2.RETR_EXTERNAL, cv2.CHAIN_APPROX_NONE)\n",
    "  \n",
    "cv2.imshow('Canny Edges Konturok megtalalasa utan', edged)\n",
    "cv2.waitKey(0)\n",
    "  \n",
    "print(\"Talált kontúrok száma = \" + str(len(contours)))\n",
    "  \n",
    "# Összes kontúr megrajzolása --> ezt a -1 jelenti\n",
    "cv2.drawContours(image, contours, -1, (0, 255, 0), 3)\n",
    "\n",
    "#Kontúrok kijelzése\n",
    "cv2.imshow('Konturok', image)\n",
    "cv2.waitKey(0)\n",
    "cv2.destroyAllWindows()"
   ]
  },
  {
   "cell_type": "code",
   "execution_count": null,
   "metadata": {},
   "outputs": [],
   "source": []
  },
  {
   "cell_type": "code",
   "execution_count": null,
   "metadata": {},
   "outputs": [],
   "source": []
  }
 ],
 "metadata": {
  "kernelspec": {
   "display_name": "Python 3 (ipykernel)",
   "language": "python",
   "name": "python3"
  },
  "language_info": {
   "codemirror_mode": {
    "name": "ipython",
    "version": 3
   },
   "file_extension": ".py",
   "mimetype": "text/x-python",
   "name": "python",
   "nbconvert_exporter": "python",
   "pygments_lexer": "ipython3",
   "version": "3.10.1"
  }
 },
 "nbformat": 4,
 "nbformat_minor": 2
}
